{
 "cells": [
  {
   "cell_type": "code",
   "execution_count": 8,
   "id": "343e37f3",
   "metadata": {},
   "outputs": [
    {
     "name": "stdout",
     "output_type": "stream",
     "text": [
      "Collecting astropy\n",
      "  Downloading astropy-5.3.4-cp310-cp310-macosx_11_0_arm64.whl.metadata (9.4 kB)\n",
      "Requirement already satisfied: numpy<2,>=1.21 in /Library/Frameworks/Python.framework/Versions/3.10/lib/python3.10/site-packages (from astropy) (1.24.3)\n",
      "Collecting pyerfa>=2.0 (from astropy)\n",
      "  Downloading pyerfa-2.0.1.1-cp39-abi3-macosx_11_0_arm64.whl.metadata (5.5 kB)\n",
      "Requirement already satisfied: PyYAML>=3.13 in /Library/Frameworks/Python.framework/Versions/3.10/lib/python3.10/site-packages (from astropy) (6.0)\n",
      "Requirement already satisfied: packaging>=19.0 in /Library/Frameworks/Python.framework/Versions/3.10/lib/python3.10/site-packages (from astropy) (23.0)\n",
      "Downloading astropy-5.3.4-cp310-cp310-macosx_11_0_arm64.whl (7.0 MB)\n",
      "\u001b[2K   \u001b[90m━━━━━━━━━━━━━━━━━━━━━━━━━━━━━━━━━━━━━━━━\u001b[0m \u001b[32m7.0/7.0 MB\u001b[0m \u001b[31m20.9 MB/s\u001b[0m eta \u001b[36m0:00:00\u001b[0m00:01\u001b[0m00:01\u001b[0m\n",
      "\u001b[?25hDownloading pyerfa-2.0.1.1-cp39-abi3-macosx_11_0_arm64.whl (334 kB)\n",
      "\u001b[2K   \u001b[90m━━━━━━━━━━━━━━━━━━━━━━━━━━━━━━━━━━━━━━━━\u001b[0m \u001b[32m334.3/334.3 kB\u001b[0m \u001b[31m10.1 MB/s\u001b[0m eta \u001b[36m0:00:00\u001b[0m\n",
      "\u001b[?25hInstalling collected packages: pyerfa, astropy\n",
      "Successfully installed astropy-5.3.4 pyerfa-2.0.1.1\n",
      "Note: you may need to restart the kernel to use updated packages.\n"
     ]
    }
   ],
   "source": [
    "pip install astropy"
   ]
  },
  {
   "cell_type": "code",
   "execution_count": 4,
   "id": "ecbee670",
   "metadata": {},
   "outputs": [],
   "source": [
    "import numpy as np\n",
    "import pandas as pd\n",
    "import matplotlib.pyplot as plt\n",
    "\n",
    "# need to install plotly on TACC Machines\n",
    "import plotly.graph_objs as go\n",
    "\n",
    "from mpl_toolkits.mplot3d import Axes3D\n",
    "\n",
    "import math\n",
    "import random\n",
    "\n",
    "%matplotlib notebook"
   ]
  },
  {
   "cell_type": "code",
   "execution_count": 5,
   "id": "f0d69f5d",
   "metadata": {},
   "outputs": [],
   "source": [
    "# read in csv\n",
    "sdssDF = pd.read_csv('Galaxy5.csv')"
   ]
  },
  {
   "cell_type": "code",
   "execution_count": 6,
   "id": "acbe65f6",
   "metadata": {},
   "outputs": [
    {
     "data": {
      "text/html": [
       "<div>\n",
       "<style scoped>\n",
       "    .dataframe tbody tr th:only-of-type {\n",
       "        vertical-align: middle;\n",
       "    }\n",
       "\n",
       "    .dataframe tbody tr th {\n",
       "        vertical-align: top;\n",
       "    }\n",
       "\n",
       "    .dataframe thead th {\n",
       "        text-align: right;\n",
       "    }\n",
       "</style>\n",
       "<table border=\"1\" class=\"dataframe\">\n",
       "  <thead>\n",
       "    <tr style=\"text-align: right;\">\n",
       "      <th></th>\n",
       "      <th>ra</th>\n",
       "      <th>dec</th>\n",
       "      <th>redshift</th>\n",
       "    </tr>\n",
       "  </thead>\n",
       "  <tbody>\n",
       "    <tr>\n",
       "      <th>0</th>\n",
       "      <td>145.34053</td>\n",
       "      <td>0.019135</td>\n",
       "      <td>0.120293</td>\n",
       "    </tr>\n",
       "    <tr>\n",
       "      <th>1</th>\n",
       "      <td>145.25355</td>\n",
       "      <td>-0.107234</td>\n",
       "      <td>0.484813</td>\n",
       "    </tr>\n",
       "    <tr>\n",
       "      <th>2</th>\n",
       "      <td>145.23331</td>\n",
       "      <td>-0.435672</td>\n",
       "      <td>0.221124</td>\n",
       "    </tr>\n",
       "    <tr>\n",
       "      <th>3</th>\n",
       "      <td>145.21905</td>\n",
       "      <td>-0.186154</td>\n",
       "      <td>0.123589</td>\n",
       "    </tr>\n",
       "    <tr>\n",
       "      <th>4</th>\n",
       "      <td>145.31208</td>\n",
       "      <td>-0.400766</td>\n",
       "      <td>0.336823</td>\n",
       "    </tr>\n",
       "    <tr>\n",
       "      <th>...</th>\n",
       "      <td>...</td>\n",
       "      <td>...</td>\n",
       "      <td>...</td>\n",
       "    </tr>\n",
       "    <tr>\n",
       "      <th>2790248</th>\n",
       "      <td>262.32827</td>\n",
       "      <td>52.933132</td>\n",
       "      <td>0.349172</td>\n",
       "    </tr>\n",
       "    <tr>\n",
       "      <th>2790249</th>\n",
       "      <td>262.38640</td>\n",
       "      <td>52.959427</td>\n",
       "      <td>0.084946</td>\n",
       "    </tr>\n",
       "    <tr>\n",
       "      <th>2790250</th>\n",
       "      <td>262.49796</td>\n",
       "      <td>53.046479</td>\n",
       "      <td>0.052209</td>\n",
       "    </tr>\n",
       "    <tr>\n",
       "      <th>2790251</th>\n",
       "      <td>263.09480</td>\n",
       "      <td>53.161608</td>\n",
       "      <td>0.109950</td>\n",
       "    </tr>\n",
       "    <tr>\n",
       "      <th>2790252</th>\n",
       "      <td>262.44816</td>\n",
       "      <td>52.972272</td>\n",
       "      <td>0.120769</td>\n",
       "    </tr>\n",
       "  </tbody>\n",
       "</table>\n",
       "<p>2790253 rows × 3 columns</p>\n",
       "</div>"
      ],
      "text/plain": [
       "                ra        dec  redshift\n",
       "0        145.34053   0.019135  0.120293\n",
       "1        145.25355  -0.107234  0.484813\n",
       "2        145.23331  -0.435672  0.221124\n",
       "3        145.21905  -0.186154  0.123589\n",
       "4        145.31208  -0.400766  0.336823\n",
       "...            ...        ...       ...\n",
       "2790248  262.32827  52.933132  0.349172\n",
       "2790249  262.38640  52.959427  0.084946\n",
       "2790250  262.49796  53.046479  0.052209\n",
       "2790251  263.09480  53.161608  0.109950\n",
       "2790252  262.44816  52.972272  0.120769\n",
       "\n",
       "[2790253 rows x 3 columns]"
      ]
     },
     "execution_count": 6,
     "metadata": {},
     "output_type": "execute_result"
    }
   ],
   "source": [
    "sampleDF = sdssDF[['ra', 'dec', 'z']]\n",
    "sampleDF.columns = ['ra', 'dec', 'redshift']\n",
    "sampleDF"
   ]
  },
  {
   "cell_type": "code",
   "execution_count": 7,
   "id": "bc15f0b8",
   "metadata": {},
   "outputs": [],
   "source": [
    "ra = tuple(sampleDF['ra'])\n",
    "dec = tuple(sampleDF['dec'])\n",
    "redshift = tuple(sampleDF['redshift'])"
   ]
  },
  {
   "cell_type": "code",
   "execution_count": 8,
   "id": "83f96209",
   "metadata": {},
   "outputs": [],
   "source": [
    "import astropy.units as u\n",
    "import astropy.coordinates\n",
    "\n",
    "raGalactic = []\n",
    "decGalactic = []\n",
    "\n",
    "for i in range(len(sampleDF['ra'])):\n",
    "    coord = astropy.coordinates.SkyCoord(\n",
    "        ra=sampleDF['ra'][i] * u.degree,\n",
    "        dec=sampleDF['dec'][i] * u.degree,\n",
    "        frame='icrs'\n",
    "    )\n",
    "    coord = coord.transform_to('galactic')\n",
    "    raGalactic.append(coord.l.deg)\n",
    "    decGalactic.append(coord.b.deg)"
   ]
  },
  {
   "cell_type": "code",
   "execution_count": 9,
   "id": "6aedcea8",
   "metadata": {},
   "outputs": [],
   "source": [
    "sampleDF['raGalactic'] = raGalactic\n",
    "sampleDF['decGalactic'] = decGalactic"
   ]
  },
  {
   "cell_type": "code",
   "execution_count": 10,
   "id": "7cdc89e0",
   "metadata": {},
   "outputs": [
    {
     "data": {
      "text/html": [
       "<div>\n",
       "<style scoped>\n",
       "    .dataframe tbody tr th:only-of-type {\n",
       "        vertical-align: middle;\n",
       "    }\n",
       "\n",
       "    .dataframe tbody tr th {\n",
       "        vertical-align: top;\n",
       "    }\n",
       "\n",
       "    .dataframe thead th {\n",
       "        text-align: right;\n",
       "    }\n",
       "</style>\n",
       "<table border=\"1\" class=\"dataframe\">\n",
       "  <thead>\n",
       "    <tr style=\"text-align: right;\">\n",
       "      <th></th>\n",
       "      <th>ra</th>\n",
       "      <th>dec</th>\n",
       "      <th>redshift</th>\n",
       "      <th>raGalactic</th>\n",
       "      <th>decGalactic</th>\n",
       "    </tr>\n",
       "  </thead>\n",
       "  <tbody>\n",
       "    <tr>\n",
       "      <th>0</th>\n",
       "      <td>145.34053</td>\n",
       "      <td>0.019135</td>\n",
       "      <td>0.120293</td>\n",
       "      <td>235.575472</td>\n",
       "      <td>36.956065</td>\n",
       "    </tr>\n",
       "    <tr>\n",
       "      <th>1</th>\n",
       "      <td>145.25355</td>\n",
       "      <td>-0.107234</td>\n",
       "      <td>0.484813</td>\n",
       "      <td>235.643155</td>\n",
       "      <td>36.812524</td>\n",
       "    </tr>\n",
       "    <tr>\n",
       "      <th>2</th>\n",
       "      <td>145.23331</td>\n",
       "      <td>-0.435672</td>\n",
       "      <td>0.221124</td>\n",
       "      <td>235.964663</td>\n",
       "      <td>36.607952</td>\n",
       "    </tr>\n",
       "    <tr>\n",
       "      <th>3</th>\n",
       "      <td>145.21905</td>\n",
       "      <td>-0.186154</td>\n",
       "      <td>0.123589</td>\n",
       "      <td>235.699426</td>\n",
       "      <td>36.739128</td>\n",
       "    </tr>\n",
       "    <tr>\n",
       "      <th>4</th>\n",
       "      <td>145.31208</td>\n",
       "      <td>-0.400766</td>\n",
       "      <td>0.336823</td>\n",
       "      <td>235.985364</td>\n",
       "      <td>36.692492</td>\n",
       "    </tr>\n",
       "    <tr>\n",
       "      <th>...</th>\n",
       "      <td>...</td>\n",
       "      <td>...</td>\n",
       "      <td>...</td>\n",
       "      <td>...</td>\n",
       "      <td>...</td>\n",
       "    </tr>\n",
       "    <tr>\n",
       "      <th>2790248</th>\n",
       "      <td>262.32827</td>\n",
       "      <td>52.933132</td>\n",
       "      <td>0.349172</td>\n",
       "      <td>80.327815</td>\n",
       "      <td>33.503116</td>\n",
       "    </tr>\n",
       "    <tr>\n",
       "      <th>2790249</th>\n",
       "      <td>262.38640</td>\n",
       "      <td>52.959427</td>\n",
       "      <td>0.084946</td>\n",
       "      <td>80.360637</td>\n",
       "      <td>33.468925</td>\n",
       "    </tr>\n",
       "    <tr>\n",
       "      <th>2790250</th>\n",
       "      <td>262.49796</td>\n",
       "      <td>53.046479</td>\n",
       "      <td>0.052209</td>\n",
       "      <td>80.467449</td>\n",
       "      <td>33.404582</td>\n",
       "    </tr>\n",
       "    <tr>\n",
       "      <th>2790251</th>\n",
       "      <td>263.09480</td>\n",
       "      <td>53.161608</td>\n",
       "      <td>0.109950</td>\n",
       "      <td>80.620145</td>\n",
       "      <td>33.050558</td>\n",
       "    </tr>\n",
       "    <tr>\n",
       "      <th>2790252</th>\n",
       "      <td>262.44816</td>\n",
       "      <td>52.972272</td>\n",
       "      <td>0.120769</td>\n",
       "      <td>80.377440</td>\n",
       "      <td>33.432154</td>\n",
       "    </tr>\n",
       "  </tbody>\n",
       "</table>\n",
       "<p>2790253 rows × 5 columns</p>\n",
       "</div>"
      ],
      "text/plain": [
       "                ra        dec  redshift  raGalactic  decGalactic\n",
       "0        145.34053   0.019135  0.120293  235.575472    36.956065\n",
       "1        145.25355  -0.107234  0.484813  235.643155    36.812524\n",
       "2        145.23331  -0.435672  0.221124  235.964663    36.607952\n",
       "3        145.21905  -0.186154  0.123589  235.699426    36.739128\n",
       "4        145.31208  -0.400766  0.336823  235.985364    36.692492\n",
       "...            ...        ...       ...         ...          ...\n",
       "2790248  262.32827  52.933132  0.349172   80.327815    33.503116\n",
       "2790249  262.38640  52.959427  0.084946   80.360637    33.468925\n",
       "2790250  262.49796  53.046479  0.052209   80.467449    33.404582\n",
       "2790251  263.09480  53.161608  0.109950   80.620145    33.050558\n",
       "2790252  262.44816  52.972272  0.120769   80.377440    33.432154\n",
       "\n",
       "[2790253 rows x 5 columns]"
      ]
     },
     "execution_count": 10,
     "metadata": {},
     "output_type": "execute_result"
    }
   ],
   "source": [
    "sampleDF"
   ]
  },
  {
   "cell_type": "code",
   "execution_count": 11,
   "id": "cba314e4",
   "metadata": {},
   "outputs": [],
   "source": [
    "sampleDF.to_csv('GalacticCoordsGalaxies5.csv')"
   ]
  },
  {
   "cell_type": "code",
   "execution_count": 12,
   "id": "2178c57a",
   "metadata": {},
   "outputs": [],
   "source": [
    "cost = [9581122.763368431, 9491352.9964327, 9359831.817188669, 9257020.717303345, 9171958.454713074, 9103422.60951039, 8989254.574758211, 8907289.017031863, 8775280.090825219, 8681979.006068317, 8644614.967798835, 8501933.558632314, 8399294.902562955, 8347905.844277649, 8305058.702626604, 8192802.7056984035, 8128801.443307339, 8033907.730341633, 7943930.712298513, 7861137.517520569]"
   ]
  },
  {
   "cell_type": "code",
   "execution_count": 3,
   "id": "ea3bb168",
   "metadata": {},
   "outputs": [
    {
     "data": {
      "text/plain": [
       "Text(0, 0.5, 'Squared Error (Cost)')"
      ]
     },
     "execution_count": 3,
     "metadata": {},
     "output_type": "execute_result"
    },
    {
     "data": {
      "image/png": "[encoded data removed]",
      "text/plain": [
       "<Figure size 640x480 with 1 Axes>"
      ]
     },
     "metadata": {},
     "output_type": "display_data"
    }
   ],
   "source": [
    "%matplotlib inline\n",
    "import matplotlib.pyplot as plt\n",
    "\n",
    "cost = [9581122.763368431, 9491352.9964327, 9359831.817188669, 9257020.717303345, 9171958.454713074, 9103422.60951039, 8989254.574758211, 8907289.017031863, 8775280.090825219, 8681979.006068317, 8644614.967798835, 8501933.558632314, 8399294.902562955, 8347905.844277649, 8305058.702626604, 8192802.7056984035, 8128801.443307339, 8033907.730341633, 7943930.712298513, 7861137.517520569, 7812105.865620453, 7749957.30683738, 7629692.839720511, 7533122.062673031, 7463852.813604562, 7446647.959260652, 7327238.942848369, 7291670.142017058, 7241599.67408318, 7134856.116859635, 7068711.597165943, 7050626.524980849, 6997080.693356358, 6948604.725982913, 6832442.389696994, 6812159.567253606, 6782468.4787331475, 6675091.553162177, 6634886.866910716, 6573114.396147624]\n",
    "\n",
    "# Plot the cost against K values\n",
    "plt.plot(range(90, 130), cost, color='g', linewidth=3)\n",
    "plt.xlabel(\"Value of K\")\n",
    "plt.ylabel(\"Squared Error (Cost)\")"
   ]
  },
  {
   "cell_type": "code",
   "execution_count": 16,
   "id": "8d1e3a05",
   "metadata": {},
   "outputs": [],
   "source": []
  },
  {
   "cell_type": "code",
   "execution_count": null,
   "id": "4420bccb",
   "metadata": {},
   "outputs": [],
   "source": []
  }
 ],
 "metadata": {
  "kernelspec": {
   "display_name": "Python 3 (ipykernel)",
   "language": "python",
   "name": "python3"
  },
  "language_info": {
   "codemirror_mode": {
    "name": "ipython",
    "version": 3
   },
   "file_extension": ".py",
   "mimetype": "text/x-python",
   "name": "python",
   "nbconvert_exporter": "python",
   "pygments_lexer": "ipython3",
   "version": "3.10.6"
  }
 },
 "nbformat": 4,
 "nbformat_minor": 5
}
